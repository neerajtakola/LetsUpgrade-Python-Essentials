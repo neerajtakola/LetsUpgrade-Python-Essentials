{
 "cells": [
  {
   "cell_type": "code",
   "execution_count": 2,
   "metadata": {},
   "outputs": [
    {
     "name": "stdout",
     "output_type": "stream",
     "text": [
      "Pls tell your height 1500\n",
      "Pls come down to 1000ft\n"
     ]
    }
   ],
   "source": [
    "height=input(\"Pls tell your height \")\n",
    "if height <= \"1000\":\n",
    "  print(\"you can land the plane\")\n",
    "elif height > \"1000\" and height < \"5000\":\n",
    "    print(\"Pls come down to 1000ft\")  \n",
    "else:\n",
    "  print(\"Turn around\")"
   ]
  },
  {
   "cell_type": "code",
   "execution_count": 14,
   "metadata": {},
   "outputs": [
    {
     "name": "stdout",
     "output_type": "stream",
     "text": [
      "2\n",
      " : Prime Number \n",
      "3\n",
      " : Prime Number \n",
      "5\n",
      " : Prime Number \n",
      "7\n",
      " : Prime Number \n",
      "11\n",
      " : Prime Number \n",
      "13\n",
      " : Prime Number \n",
      "17\n",
      " : Prime Number \n",
      "19\n",
      " : Prime Number \n",
      "23\n",
      " : Prime Number \n",
      "29\n",
      " : Prime Number \n",
      "31\n",
      " : Prime Number \n",
      "37\n",
      " : Prime Number \n",
      "41\n",
      " : Prime Number \n",
      "43\n",
      " : Prime Number \n",
      "47\n",
      " : Prime Number \n",
      "53\n",
      " : Prime Number \n",
      "59\n",
      " : Prime Number \n",
      "61\n",
      " : Prime Number \n",
      "67\n",
      " : Prime Number \n",
      "71\n",
      " : Prime Number \n",
      "73\n",
      " : Prime Number \n",
      "79\n",
      " : Prime Number \n",
      "83\n",
      " : Prime Number \n",
      "89\n",
      " : Prime Number \n",
      "97\n",
      " : Prime Number \n",
      "101\n",
      " : Prime Number \n",
      "103\n",
      " : Prime Number \n",
      "107\n",
      " : Prime Number \n",
      "109\n",
      " : Prime Number \n",
      "113\n",
      " : Prime Number \n",
      "127\n",
      " : Prime Number \n",
      "131\n",
      " : Prime Number \n",
      "137\n",
      " : Prime Number \n",
      "139\n",
      " : Prime Number \n",
      "149\n",
      " : Prime Number \n",
      "151\n",
      " : Prime Number \n",
      "157\n",
      " : Prime Number \n",
      "163\n",
      " : Prime Number \n",
      "167\n",
      " : Prime Number \n",
      "173\n",
      " : Prime Number \n",
      "179\n",
      " : Prime Number \n",
      "181\n",
      " : Prime Number \n",
      "191\n",
      " : Prime Number \n",
      "193\n",
      " : Prime Number \n",
      "197\n",
      " : Prime Number \n",
      "199\n",
      " : Prime Number \n"
     ]
    }
   ],
   "source": [
    "for x in range(2,200):\n",
    "  flag= False\n",
    "  for y in range(2,x):\n",
    "    if(x%y==0):\n",
    "      flag=True\n",
    "  if flag == False:\n",
    "    print(x)\n",
    "    print(\" : Prime Number \")   "
   ]
  },
  {
   "cell_type": "code",
   "execution_count": null,
   "metadata": {},
   "outputs": [],
   "source": []
  }
 ],
 "metadata": {
  "kernelspec": {
   "display_name": "Python 3",
   "language": "python",
   "name": "python3"
  },
  "language_info": {
   "codemirror_mode": {
    "name": "ipython",
    "version": 3
   },
   "file_extension": ".py",
   "mimetype": "text/x-python",
   "name": "python",
   "nbconvert_exporter": "python",
   "pygments_lexer": "ipython3",
   "version": "3.8.3"
  }
 },
 "nbformat": 4,
 "nbformat_minor": 4
}

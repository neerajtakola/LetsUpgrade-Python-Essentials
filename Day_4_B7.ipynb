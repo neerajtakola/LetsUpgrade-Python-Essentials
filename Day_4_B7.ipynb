{
  "nbformat": 4,
  "nbformat_minor": 0,
  "metadata": {
    "colab": {
      "name": "Day 4  B7.ipynb",
      "provenance": []
    },
    "kernelspec": {
      "name": "python3",
      "display_name": "Python 3"
    }
  },
  "cells": [
    {
      "cell_type": "code",
      "metadata": {
        "id": "lwHuYqpmMT9j",
        "colab_type": "code",
        "colab": {
          "base_uri": "https://localhost:8080/",
          "height": 34
        },
        "outputId": "1d0c2266-3770-414d-d14f-041ceea8247e"
      },
      "source": [
        "for num in range(1042000,702648265):\n",
        "  sum1=0\n",
        "  no=num\n",
        "  order=len(str(num))\n",
        "  while num!=0:\n",
        "    rem=num%10\n",
        "    sum1=sum1+rem**order\n",
        "    num=int(num/10)\n",
        "  if no==sum1:\n",
        "    print(\"First ArmStrong Number\",no,\" \",sum1)\n",
        "    break"
      ],
      "execution_count": 5,
      "outputs": [
        {
          "output_type": "stream",
          "text": [
            "First ArmStrong Number 1741725   1741725\n"
          ],
          "name": "stdout"
        }
      ]
    }
  ]
}